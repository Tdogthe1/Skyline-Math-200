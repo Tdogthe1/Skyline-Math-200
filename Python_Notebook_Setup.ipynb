{
  "nbformat": 4,
  "nbformat_minor": 0,
  "metadata": {
    "colab": {
      "provenance": [],
      "include_colab_link": true
    },
    "kernelspec": {
      "name": "python3",
      "display_name": "Python 3"
    },
    "language_info": {
      "name": "python"
    }
  },
  "cells": [
    {
      "cell_type": "markdown",
      "metadata": {
        "id": "view-in-github",
        "colab_type": "text"
      },
      "source": [
        "<a href=\"https://colab.research.google.com/github/Tdogthe1/Skyline-Math-200/blob/main/Python_Notebook_Setup.ipynb\" target=\"_parent\"><img src=\"https://colab.research.google.com/assets/colab-badge.svg\" alt=\"Open In Colab\"/></a>"
      ]
    },
    {
      "cell_type": "markdown",
      "source": [
        "Research Question # 1 :  Is there an association between What time do you usually wake up and how many times do you do strenuous sports (Week)?\n",
        "\n",
        "Research Question # 2 :  Is there an association between Your most recent degree/certificate received and the amount of siblings (Dead and Alive)?"
      ],
      "metadata": {
        "id": "RaflRRFg5e8L"
      }
    },
    {
      "cell_type": "code",
      "execution_count": 178,
      "metadata": {
        "id": "U2T9urK-5ZAe"
      },
      "outputs": [],
      "source": [
        "import pandas as pd\n",
        "import matplotlib.pyplot as plt\n",
        "import seaborn as sns"
      ]
    },
    {
      "cell_type": "code",
      "source": [
        "url='https://drive.google.com/file/d/1IbHzUMYKFBkmW3TIvryP7XJlW-WkmGEw/view?usp=sharing'\n",
        "path= 'https://drive.google.com/uc?export=download&id='+url.split('/')[-2]\n",
        "df = pd.read_csv(path)\n",
        "df.head()"
      ],
      "metadata": {
        "id": "Hq7jBgXZ5p7g",
        "colab": {
          "base_uri": "https://localhost:8080/",
          "height": 300
        },
        "outputId": "c526e3e2-fc59-4179-88d1-bf0e9cdb48b7"
      },
      "execution_count": 179,
      "outputs": [
        {
          "output_type": "execute_result",
          "data": {
            "text/plain": [
              "       AID  BIO_SEX        agew1 IMONTH4 IDAY4 IYEAR4   MACNO4 INTID4  \\\n",
              "0  5710027        2                                                     \n",
              "1  5710131        2  19.42739726       5     6   2008  2288160    160   \n",
              "2  5710317        1                                                     \n",
              "3  5710386        1  20.43013699       5    22   2008  2288238    238   \n",
              "4  5710455        2                                                     \n",
              "\n",
              "  BIO_SEX4 VERSION4  ... H4EO5C H4EO5D H4EO5E H4EO5F H4EO5G H4EO5H H4EO5I  \\\n",
              "0                    ...                                                    \n",
              "1        2     V5.4  ...      0      0      0      0      0      0      0   \n",
              "2                    ...                                                    \n",
              "3        1     V5.4  ...      0      0      0      0      0      0      0   \n",
              "4                    ...                                                    \n",
              "\n",
              "  H4EO5J H4EO6 H4EO7  \n",
              "0                     \n",
              "1      0     2     1  \n",
              "2                     \n",
              "3      0     4     1  \n",
              "4                     \n",
              "\n",
              "[5 rows x 976 columns]"
            ],
            "text/html": [
              "\n",
              "  <div id=\"df-a4cd6862-7dfa-4f32-bce1-3abc7b62eb8f\">\n",
              "    <div class=\"colab-df-container\">\n",
              "      <div>\n",
              "<style scoped>\n",
              "    .dataframe tbody tr th:only-of-type {\n",
              "        vertical-align: middle;\n",
              "    }\n",
              "\n",
              "    .dataframe tbody tr th {\n",
              "        vertical-align: top;\n",
              "    }\n",
              "\n",
              "    .dataframe thead th {\n",
              "        text-align: right;\n",
              "    }\n",
              "</style>\n",
              "<table border=\"1\" class=\"dataframe\">\n",
              "  <thead>\n",
              "    <tr style=\"text-align: right;\">\n",
              "      <th></th>\n",
              "      <th>AID</th>\n",
              "      <th>BIO_SEX</th>\n",
              "      <th>agew1</th>\n",
              "      <th>IMONTH4</th>\n",
              "      <th>IDAY4</th>\n",
              "      <th>IYEAR4</th>\n",
              "      <th>MACNO4</th>\n",
              "      <th>INTID4</th>\n",
              "      <th>BIO_SEX4</th>\n",
              "      <th>VERSION4</th>\n",
              "      <th>...</th>\n",
              "      <th>H4EO5C</th>\n",
              "      <th>H4EO5D</th>\n",
              "      <th>H4EO5E</th>\n",
              "      <th>H4EO5F</th>\n",
              "      <th>H4EO5G</th>\n",
              "      <th>H4EO5H</th>\n",
              "      <th>H4EO5I</th>\n",
              "      <th>H4EO5J</th>\n",
              "      <th>H4EO6</th>\n",
              "      <th>H4EO7</th>\n",
              "    </tr>\n",
              "  </thead>\n",
              "  <tbody>\n",
              "    <tr>\n",
              "      <th>0</th>\n",
              "      <td>5710027</td>\n",
              "      <td>2</td>\n",
              "      <td></td>\n",
              "      <td></td>\n",
              "      <td></td>\n",
              "      <td></td>\n",
              "      <td></td>\n",
              "      <td></td>\n",
              "      <td></td>\n",
              "      <td></td>\n",
              "      <td>...</td>\n",
              "      <td></td>\n",
              "      <td></td>\n",
              "      <td></td>\n",
              "      <td></td>\n",
              "      <td></td>\n",
              "      <td></td>\n",
              "      <td></td>\n",
              "      <td></td>\n",
              "      <td></td>\n",
              "      <td></td>\n",
              "    </tr>\n",
              "    <tr>\n",
              "      <th>1</th>\n",
              "      <td>5710131</td>\n",
              "      <td>2</td>\n",
              "      <td>19.42739726</td>\n",
              "      <td>5</td>\n",
              "      <td>6</td>\n",
              "      <td>2008</td>\n",
              "      <td>2288160</td>\n",
              "      <td>160</td>\n",
              "      <td>2</td>\n",
              "      <td>V5.4</td>\n",
              "      <td>...</td>\n",
              "      <td>0</td>\n",
              "      <td>0</td>\n",
              "      <td>0</td>\n",
              "      <td>0</td>\n",
              "      <td>0</td>\n",
              "      <td>0</td>\n",
              "      <td>0</td>\n",
              "      <td>0</td>\n",
              "      <td>2</td>\n",
              "      <td>1</td>\n",
              "    </tr>\n",
              "    <tr>\n",
              "      <th>2</th>\n",
              "      <td>5710317</td>\n",
              "      <td>1</td>\n",
              "      <td></td>\n",
              "      <td></td>\n",
              "      <td></td>\n",
              "      <td></td>\n",
              "      <td></td>\n",
              "      <td></td>\n",
              "      <td></td>\n",
              "      <td></td>\n",
              "      <td>...</td>\n",
              "      <td></td>\n",
              "      <td></td>\n",
              "      <td></td>\n",
              "      <td></td>\n",
              "      <td></td>\n",
              "      <td></td>\n",
              "      <td></td>\n",
              "      <td></td>\n",
              "      <td></td>\n",
              "      <td></td>\n",
              "    </tr>\n",
              "    <tr>\n",
              "      <th>3</th>\n",
              "      <td>5710386</td>\n",
              "      <td>1</td>\n",
              "      <td>20.43013699</td>\n",
              "      <td>5</td>\n",
              "      <td>22</td>\n",
              "      <td>2008</td>\n",
              "      <td>2288238</td>\n",
              "      <td>238</td>\n",
              "      <td>1</td>\n",
              "      <td>V5.4</td>\n",
              "      <td>...</td>\n",
              "      <td>0</td>\n",
              "      <td>0</td>\n",
              "      <td>0</td>\n",
              "      <td>0</td>\n",
              "      <td>0</td>\n",
              "      <td>0</td>\n",
              "      <td>0</td>\n",
              "      <td>0</td>\n",
              "      <td>4</td>\n",
              "      <td>1</td>\n",
              "    </tr>\n",
              "    <tr>\n",
              "      <th>4</th>\n",
              "      <td>5710455</td>\n",
              "      <td>2</td>\n",
              "      <td></td>\n",
              "      <td></td>\n",
              "      <td></td>\n",
              "      <td></td>\n",
              "      <td></td>\n",
              "      <td></td>\n",
              "      <td></td>\n",
              "      <td></td>\n",
              "      <td>...</td>\n",
              "      <td></td>\n",
              "      <td></td>\n",
              "      <td></td>\n",
              "      <td></td>\n",
              "      <td></td>\n",
              "      <td></td>\n",
              "      <td></td>\n",
              "      <td></td>\n",
              "      <td></td>\n",
              "      <td></td>\n",
              "    </tr>\n",
              "  </tbody>\n",
              "</table>\n",
              "<p>5 rows × 976 columns</p>\n",
              "</div>\n",
              "      <button class=\"colab-df-convert\" onclick=\"convertToInteractive('df-a4cd6862-7dfa-4f32-bce1-3abc7b62eb8f')\"\n",
              "              title=\"Convert this dataframe to an interactive table.\"\n",
              "              style=\"display:none;\">\n",
              "        \n",
              "  <svg xmlns=\"http://www.w3.org/2000/svg\" height=\"24px\"viewBox=\"0 0 24 24\"\n",
              "       width=\"24px\">\n",
              "    <path d=\"M0 0h24v24H0V0z\" fill=\"none\"/>\n",
              "    <path d=\"M18.56 5.44l.94 2.06.94-2.06 2.06-.94-2.06-.94-.94-2.06-.94 2.06-2.06.94zm-11 1L8.5 8.5l.94-2.06 2.06-.94-2.06-.94L8.5 2.5l-.94 2.06-2.06.94zm10 10l.94 2.06.94-2.06 2.06-.94-2.06-.94-.94-2.06-.94 2.06-2.06.94z\"/><path d=\"M17.41 7.96l-1.37-1.37c-.4-.4-.92-.59-1.43-.59-.52 0-1.04.2-1.43.59L10.3 9.45l-7.72 7.72c-.78.78-.78 2.05 0 2.83L4 21.41c.39.39.9.59 1.41.59.51 0 1.02-.2 1.41-.59l7.78-7.78 2.81-2.81c.8-.78.8-2.07 0-2.86zM5.41 20L4 18.59l7.72-7.72 1.47 1.35L5.41 20z\"/>\n",
              "  </svg>\n",
              "      </button>\n",
              "      \n",
              "  <style>\n",
              "    .colab-df-container {\n",
              "      display:flex;\n",
              "      flex-wrap:wrap;\n",
              "      gap: 12px;\n",
              "    }\n",
              "\n",
              "    .colab-df-convert {\n",
              "      background-color: #E8F0FE;\n",
              "      border: none;\n",
              "      border-radius: 50%;\n",
              "      cursor: pointer;\n",
              "      display: none;\n",
              "      fill: #1967D2;\n",
              "      height: 32px;\n",
              "      padding: 0 0 0 0;\n",
              "      width: 32px;\n",
              "    }\n",
              "\n",
              "    .colab-df-convert:hover {\n",
              "      background-color: #E2EBFA;\n",
              "      box-shadow: 0px 1px 2px rgba(60, 64, 67, 0.3), 0px 1px 3px 1px rgba(60, 64, 67, 0.15);\n",
              "      fill: #174EA6;\n",
              "    }\n",
              "\n",
              "    [theme=dark] .colab-df-convert {\n",
              "      background-color: #3B4455;\n",
              "      fill: #D2E3FC;\n",
              "    }\n",
              "\n",
              "    [theme=dark] .colab-df-convert:hover {\n",
              "      background-color: #434B5C;\n",
              "      box-shadow: 0px 1px 3px 1px rgba(0, 0, 0, 0.15);\n",
              "      filter: drop-shadow(0px 1px 2px rgba(0, 0, 0, 0.3));\n",
              "      fill: #FFFFFF;\n",
              "    }\n",
              "  </style>\n",
              "\n",
              "      <script>\n",
              "        const buttonEl =\n",
              "          document.querySelector('#df-a4cd6862-7dfa-4f32-bce1-3abc7b62eb8f button.colab-df-convert');\n",
              "        buttonEl.style.display =\n",
              "          google.colab.kernel.accessAllowed ? 'block' : 'none';\n",
              "\n",
              "        async function convertToInteractive(key) {\n",
              "          const element = document.querySelector('#df-a4cd6862-7dfa-4f32-bce1-3abc7b62eb8f');\n",
              "          const dataTable =\n",
              "            await google.colab.kernel.invokeFunction('convertToInteractive',\n",
              "                                                     [key], {});\n",
              "          if (!dataTable) return;\n",
              "\n",
              "          const docLinkHtml = 'Like what you see? Visit the ' +\n",
              "            '<a target=\"_blank\" href=https://colab.research.google.com/notebooks/data_table.ipynb>data table notebook</a>'\n",
              "            + ' to learn more about interactive tables.';\n",
              "          element.innerHTML = '';\n",
              "          dataTable['output_type'] = 'display_data';\n",
              "          await google.colab.output.renderOutput(dataTable, element);\n",
              "          const docLink = document.createElement('div');\n",
              "          docLink.innerHTML = docLinkHtml;\n",
              "          element.appendChild(docLink);\n",
              "        }\n",
              "      </script>\n",
              "    </div>\n",
              "  </div>\n",
              "  "
            ]
          },
          "metadata": {},
          "execution_count": 179
        }
      ]
    },
    {
      "cell_type": "markdown",
      "source": [
        "![Screenshot 2023-04-28 7.18.51 PM.png](data:image/png;base64,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)![Screenshot 2023-04-28 7.19.04 PM.png](data:image/png;base64,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) Codebook 1"
      ],
      "metadata": {
        "id": "P2Vacu7L52PB"
      }
    },
    {
      "cell_type": "code",
      "source": [
        "df['H4DA4'].value_counts()"
      ],
      "metadata": {
        "colab": {
          "base_uri": "https://localhost:8080/"
        },
        "id": "FF2Z0kH1JDdb",
        "outputId": "d9219ed8-ce1c-45b7-98fd-acdd2b8ff29d"
      },
      "execution_count": 180,
      "outputs": [
        {
          "output_type": "execute_result",
          "data": {
            "text/plain": [
              "0     4466\n",
              "      1391\n",
              "1      284\n",
              "2      164\n",
              "3       99\n",
              "4       48\n",
              "7       30\n",
              "5       16\n",
              "6        4\n",
              "98       1\n",
              "96       1\n",
              "Name: H4DA4, dtype: int64"
            ]
          },
          "metadata": {},
          "execution_count": 180
        }
      ]
    },
    {
      "cell_type": "code",
      "source": [
        "df['Strenuous_sports'] = df['H4DA4']"
      ],
      "metadata": {
        "id": "O0bqPjAw3Wxo"
      },
      "execution_count": 181,
      "outputs": []
    },
    {
      "cell_type": "code",
      "source": [
        "df['Strenuous_sports'] = df['Strenuous_sports'].loc[ df['Strenuous_sports'] !='98']\n",
        "df['Strenuous_sports'] = df['Strenuous_sports'].loc[ df['Strenuous_sports'] !='96']\n",
        "df['Strenuous_sports'] = df['Strenuous_sports'].loc[ df['Strenuous_sports'] !=' ']\n",
        "df['Strenuous_sports'].value_counts()"
      ],
      "metadata": {
        "colab": {
          "base_uri": "https://localhost:8080/"
        },
        "id": "8Wbj-twd3W7g",
        "outputId": "09c3f2eb-371f-46ae-dffa-55ba14c4ebe9"
      },
      "execution_count": 182,
      "outputs": [
        {
          "output_type": "execute_result",
          "data": {
            "text/plain": [
              "0    4466\n",
              "1     284\n",
              "2     164\n",
              "3      99\n",
              "4      48\n",
              "7      30\n",
              "5      16\n",
              "6       4\n",
              "Name: Strenuous_sports, dtype: int64"
            ]
          },
          "metadata": {},
          "execution_count": 182
        }
      ]
    },
    {
      "cell_type": "code",
      "source": [
        "df['Strenuous_sports'].replace( ['0','1','2','3','4','5','6','7'], ['not at all','1 Time','2 Times','3 Times','4 Times','5 Times','6 Times','7 Times or more'], inplace=True)\n",
        "df['Strenuous_sports'].value_counts()"
      ],
      "metadata": {
        "colab": {
          "base_uri": "https://localhost:8080/"
        },
        "id": "XmE9Kk2aQaIB",
        "outputId": "327b67da-f4dd-4e73-891c-2c89da91b294"
      },
      "execution_count": 183,
      "outputs": [
        {
          "output_type": "execute_result",
          "data": {
            "text/plain": [
              "not at all         4466\n",
              "1 Time              284\n",
              "2 Times             164\n",
              "3 Times              99\n",
              "4 Times              48\n",
              "7 Times or more      30\n",
              "5 Times              16\n",
              "6 Times               4\n",
              "Name: Strenuous_sports, dtype: int64"
            ]
          },
          "metadata": {},
          "execution_count": 183
        }
      ]
    },
    {
      "cell_type": "code",
      "source": [
        "#Basic Pie Chart\n",
        "df['Strenuous_sports'].value_counts().plot(kind ='pie')"
      ],
      "metadata": {
        "colab": {
          "base_uri": "https://localhost:8080/",
          "height": 423
        },
        "id": "8x2QVN_ktpu8",
        "outputId": "ec91020a-fd09-4b28-9a6c-19d0c4088711"
      },
      "execution_count": 184,
      "outputs": [
        {
          "output_type": "execute_result",
          "data": {
            "text/plain": [
              "<Axes: ylabel='Strenuous_sports'>"
            ]
          },
          "metadata": {},
          "execution_count": 184
        },
        {
          "output_type": "display_data",
          "data": {
            "text/plain": [
              "<Figure size 640x480 with 1 Axes>"
            ],
            "image/png": "[encoded data removed]"
          },
          "metadata": {}
        }
      ]
    },
    {
      "cell_type": "code",
      "source": [
        "#Basic Bar Chart\n",
        "df['Strenuous_sports'].value_counts(normalize = True).plot(kind ='bar')"
      ],
      "metadata": {
        "colab": {
          "base_uri": "https://localhost:8080/",
          "height": 546
        },
        "id": "byV2vflztp6f",
        "outputId": "223d3609-e183-4df7-f3f7-60f3691e8aa5"
      },
      "execution_count": 185,
      "outputs": [
        {
          "output_type": "execute_result",
          "data": {
            "text/plain": [
              "<Axes: >"
            ]
          },
          "metadata": {},
          "execution_count": 185
        },
        {
          "output_type": "display_data",
          "data": {
            "text/plain": [
              "<Figure size 640x480 with 1 Axes>"
            ],
            "image/png": "[encoded data removed]"
          },
          "metadata": {}
        }
      ]
    },
    {
      "cell_type": "code",
      "source": [
        "df['H4SP1H'].value_counts()"
      ],
      "metadata": {
        "colab": {
          "base_uri": "https://localhost:8080/"
        },
        "id": "2xbs2BPYd6rH",
        "outputId": "c8ecb835-56cd-4974-dd64-44870c4e1b71"
      },
      "execution_count": 186,
      "outputs": [
        {
          "output_type": "execute_result",
          "data": {
            "text/plain": [
              "6     1582\n",
              "      1390\n",
              "7     1078\n",
              "5     1007\n",
              "8      406\n",
              "4      309\n",
              "9      261\n",
              "10     139\n",
              "3       95\n",
              "11      72\n",
              "12      64\n",
              "2       48\n",
              "1       40\n",
              "98      12\n",
              "96       1\n",
              "Name: H4SP1H, dtype: int64"
            ]
          },
          "metadata": {},
          "execution_count": 186
        }
      ]
    },
    {
      "cell_type": "code",
      "source": [
        "df['Wake_Up_hour'] = df['H4SP1H']"
      ],
      "metadata": {
        "id": "aofzvkY04INc"
      },
      "execution_count": 187,
      "outputs": []
    },
    {
      "cell_type": "code",
      "source": [
        "df['Wake_Up_hour'] = df['Wake_Up_hour'].loc[ df['Wake_Up_hour'] !='98']\n",
        "df['Wake_Up_hour'] = df['Wake_Up_hour'].loc[ df['Wake_Up_hour'] !='96']\n",
        "df['Wake_Up_hour'] = df['Wake_Up_hour'].loc[ df['Wake_Up_hour'] !=' ']\n",
        "df['Wake_Up_hour']= pd.to_numeric(df['Wake_Up_hour'],errors= 'coerce')\n",
        "df['Wake_Up_hour'].value_counts()"
      ],
      "metadata": {
        "colab": {
          "base_uri": "https://localhost:8080/"
        },
        "id": "Weh2oLE74ISx",
        "outputId": "8836607c-b24a-4790-a362-bd0fe4b3fbf3"
      },
      "execution_count": 188,
      "outputs": [
        {
          "output_type": "execute_result",
          "data": {
            "text/plain": [
              "6.0     1582\n",
              "7.0     1078\n",
              "5.0     1007\n",
              "8.0      406\n",
              "4.0      309\n",
              "9.0      261\n",
              "10.0     139\n",
              "3.0       95\n",
              "11.0      72\n",
              "12.0      64\n",
              "2.0       48\n",
              "1.0       40\n",
              "Name: Wake_Up_hour, dtype: int64"
            ]
          },
          "metadata": {},
          "execution_count": 188
        }
      ]
    },
    {
      "cell_type": "code",
      "source": [
        "df['Wake_Up_minute']= df['H4SP1M']\n",
        "df['Wake_Up_minute']= pd.to_numeric(df['Wake_Up_minute'],errors= 'coerce')\n",
        "df['Wake_Up_minute']= df['Wake_Up_minute'].loc[df['Wake_Up_minute'] < 96]\n",
        "df['Wake_Up_minute']= df['Wake_Up_minute'].loc[df['Wake_Up_minute'] != ' ']\n",
        "df['Wake_Up_minute'].value_counts()"
      ],
      "metadata": {
        "colab": {
          "base_uri": "https://localhost:8080/"
        },
        "id": "UzkNnUMhxwvZ",
        "outputId": "e9448d17-5961-445d-e34a-3dea1f8b6797"
      },
      "execution_count": 189,
      "outputs": [
        {
          "output_type": "execute_result",
          "data": {
            "text/plain": [
              "0.0     2776\n",
              "30.0    1599\n",
              "45.0     306\n",
              "15.0     206\n",
              "20.0      46\n",
              "40.0      34\n",
              "3.0       33\n",
              "50.0      30\n",
              "10.0      15\n",
              "25.0      10\n",
              "55.0       9\n",
              "1.0        8\n",
              "35.0       8\n",
              "5.0        8\n",
              "7.0        2\n",
              "43.0       1\n",
              "24.0       1\n",
              "6.0        1\n",
              "32.0       1\n",
              "44.0       1\n",
              "59.0       1\n",
              "12.0       1\n",
              "9.0        1\n",
              "54.0       1\n",
              "2.0        1\n",
              "Name: Wake_Up_minute, dtype: int64"
            ]
          },
          "metadata": {},
          "execution_count": 189
        }
      ]
    },
    {
      "cell_type": "code",
      "source": [
        "df['am_pm']=df['H4SP1T']\n",
        "df['am_pm'] = df['am_pm'].loc[df['am_pm'] !=' ']\n",
        "df['am_pm'] = df['am_pm'].loc[df['am_pm'] <'6']\n",
        "df['am_pm'].replace(['1','2'],['AM','PM'],inplace=True)\n",
        "df['am_pm'].value_counts()"
      ],
      "metadata": {
        "colab": {
          "base_uri": "https://localhost:8080/"
        },
        "id": "__ibIhbpxw5H",
        "outputId": "1e01997a-7125-4d7b-98e9-640e2aff0715"
      },
      "execution_count": 190,
      "outputs": [
        {
          "output_type": "execute_result",
          "data": {
            "text/plain": [
              "AM    4843\n",
              "PM     258\n",
              "Name: am_pm, dtype: int64"
            ]
          },
          "metadata": {},
          "execution_count": 190
        }
      ]
    },
    {
      "cell_type": "code",
      "source": [
        "df_time_convert = df[['am_pm', 'Wake_Up_hour', 'Wake_Up_minute']]"
      ],
      "metadata": {
        "id": "6nFT11BPhCAn"
      },
      "execution_count": 191,
      "outputs": []
    },
    {
      "cell_type": "code",
      "source": [
        "df_time_convert.dropna(inplace=True)"
      ],
      "metadata": {
        "colab": {
          "base_uri": "https://localhost:8080/"
        },
        "id": "QfG4d4ywhEBk",
        "outputId": "c7a71456-f8a3-4074-c998-156f4cc94500"
      },
      "execution_count": 192,
      "outputs": [
        {
          "output_type": "stream",
          "name": "stderr",
          "text": [
            "<ipython-input-192-9f90cf800d75>:1: SettingWithCopyWarning: \n",
            "A value is trying to be set on a copy of a slice from a DataFrame\n",
            "\n",
            "See the caveats in the documentation: https://pandas.pydata.org/pandas-docs/stable/user_guide/indexing.html#returning-a-view-versus-a-copy\n",
            "  df_time_convert.dropna(inplace=True)\n"
          ]
        }
      ]
    },
    {
      "cell_type": "code",
      "source": [
        "df_time_convert"
      ],
      "metadata": {
        "colab": {
          "base_uri": "https://localhost:8080/",
          "height": 424
        },
        "id": "0opQzzK6hPDV",
        "outputId": "a17d7611-7a41-4a07-e59d-5535002330ab"
      },
      "execution_count": 193,
      "outputs": [
        {
          "output_type": "execute_result",
          "data": {
            "text/plain": [
              "     am_pm  Wake_Up_hour  Wake_Up_minute\n",
              "1       AM           6.0             0.0\n",
              "3       AM           9.0             0.0\n",
              "7       AM           6.0            30.0\n",
              "9       AM           9.0            30.0\n",
              "11      AM           5.0             0.0\n",
              "...    ...           ...             ...\n",
              "6499    AM           7.0            45.0\n",
              "6500    AM           7.0             0.0\n",
              "6501    AM           5.0            30.0\n",
              "6502    AM           8.0             2.0\n",
              "6503    AM           5.0            15.0\n",
              "\n",
              "[5100 rows x 3 columns]"
            ],
            "text/html": [
              "\n",
              "  <div id=\"df-42cd401c-79a2-4fc2-abe0-46ad96889286\">\n",
              "    <div class=\"colab-df-container\">\n",
              "      <div>\n",
              "<style scoped>\n",
              "    .dataframe tbody tr th:only-of-type {\n",
              "        vertical-align: middle;\n",
              "    }\n",
              "\n",
              "    .dataframe tbody tr th {\n",
              "        vertical-align: top;\n",
              "    }\n",
              "\n",
              "    .dataframe thead th {\n",
              "        text-align: right;\n",
              "    }\n",
              "</style>\n",
              "<table border=\"1\" class=\"dataframe\">\n",
              "  <thead>\n",
              "    <tr style=\"text-align: right;\">\n",
              "      <th></th>\n",
              "      <th>am_pm</th>\n",
              "      <th>Wake_Up_hour</th>\n",
              "      <th>Wake_Up_minute</th>\n",
              "    </tr>\n",
              "  </thead>\n",
              "  <tbody>\n",
              "    <tr>\n",
              "      <th>1</th>\n",
              "      <td>AM</td>\n",
              "      <td>6.0</td>\n",
              "      <td>0.0</td>\n",
              "    </tr>\n",
              "    <tr>\n",
              "      <th>3</th>\n",
              "      <td>AM</td>\n",
              "      <td>9.0</td>\n",
              "      <td>0.0</td>\n",
              "    </tr>\n",
              "    <tr>\n",
              "      <th>7</th>\n",
              "      <td>AM</td>\n",
              "      <td>6.0</td>\n",
              "      <td>30.0</td>\n",
              "    </tr>\n",
              "    <tr>\n",
              "      <th>9</th>\n",
              "      <td>AM</td>\n",
              "      <td>9.0</td>\n",
              "      <td>30.0</td>\n",
              "    </tr>\n",
              "    <tr>\n",
              "      <th>11</th>\n",
              "      <td>AM</td>\n",
              "      <td>5.0</td>\n",
              "      <td>0.0</td>\n",
              "    </tr>\n",
              "    <tr>\n",
              "      <th>...</th>\n",
              "      <td>...</td>\n",
              "      <td>...</td>\n",
              "      <td>...</td>\n",
              "    </tr>\n",
              "    <tr>\n",
              "      <th>6499</th>\n",
              "      <td>AM</td>\n",
              "      <td>7.0</td>\n",
              "      <td>45.0</td>\n",
              "    </tr>\n",
              "    <tr>\n",
              "      <th>6500</th>\n",
              "      <td>AM</td>\n",
              "      <td>7.0</td>\n",
              "      <td>0.0</td>\n",
              "    </tr>\n",
              "    <tr>\n",
              "      <th>6501</th>\n",
              "      <td>AM</td>\n",
              "      <td>5.0</td>\n",
              "      <td>30.0</td>\n",
              "    </tr>\n",
              "    <tr>\n",
              "      <th>6502</th>\n",
              "      <td>AM</td>\n",
              "      <td>8.0</td>\n",
              "      <td>2.0</td>\n",
              "    </tr>\n",
              "    <tr>\n",
              "      <th>6503</th>\n",
              "      <td>AM</td>\n",
              "      <td>5.0</td>\n",
              "      <td>15.0</td>\n",
              "    </tr>\n",
              "  </tbody>\n",
              "</table>\n",
              "<p>5100 rows × 3 columns</p>\n",
              "</div>\n",
              "      <button class=\"colab-df-convert\" onclick=\"convertToInteractive('df-42cd401c-79a2-4fc2-abe0-46ad96889286')\"\n",
              "              title=\"Convert this dataframe to an interactive table.\"\n",
              "              style=\"display:none;\">\n",
              "        \n",
              "  <svg xmlns=\"http://www.w3.org/2000/svg\" height=\"24px\"viewBox=\"0 0 24 24\"\n",
              "       width=\"24px\">\n",
              "    <path d=\"M0 0h24v24H0V0z\" fill=\"none\"/>\n",
              "    <path d=\"M18.56 5.44l.94 2.06.94-2.06 2.06-.94-2.06-.94-.94-2.06-.94 2.06-2.06.94zm-11 1L8.5 8.5l.94-2.06 2.06-.94-2.06-.94L8.5 2.5l-.94 2.06-2.06.94zm10 10l.94 2.06.94-2.06 2.06-.94-2.06-.94-.94-2.06-.94 2.06-2.06.94z\"/><path d=\"M17.41 7.96l-1.37-1.37c-.4-.4-.92-.59-1.43-.59-.52 0-1.04.2-1.43.59L10.3 9.45l-7.72 7.72c-.78.78-.78 2.05 0 2.83L4 21.41c.39.39.9.59 1.41.59.51 0 1.02-.2 1.41-.59l7.78-7.78 2.81-2.81c.8-.78.8-2.07 0-2.86zM5.41 20L4 18.59l7.72-7.72 1.47 1.35L5.41 20z\"/>\n",
              "  </svg>\n",
              "      </button>\n",
              "      \n",
              "  <style>\n",
              "    .colab-df-container {\n",
              "      display:flex;\n",
              "      flex-wrap:wrap;\n",
              "      gap: 12px;\n",
              "    }\n",
              "\n",
              "    .colab-df-convert {\n",
              "      background-color: #E8F0FE;\n",
              "      border: none;\n",
              "      border-radius: 50%;\n",
              "      cursor: pointer;\n",
              "      display: none;\n",
              "      fill: #1967D2;\n",
              "      height: 32px;\n",
              "      padding: 0 0 0 0;\n",
              "      width: 32px;\n",
              "    }\n",
              "\n",
              "    .colab-df-convert:hover {\n",
              "      background-color: #E2EBFA;\n",
              "      box-shadow: 0px 1px 2px rgba(60, 64, 67, 0.3), 0px 1px 3px 1px rgba(60, 64, 67, 0.15);\n",
              "      fill: #174EA6;\n",
              "    }\n",
              "\n",
              "    [theme=dark] .colab-df-convert {\n",
              "      background-color: #3B4455;\n",
              "      fill: #D2E3FC;\n",
              "    }\n",
              "\n",
              "    [theme=dark] .colab-df-convert:hover {\n",
              "      background-color: #434B5C;\n",
              "      box-shadow: 0px 1px 3px 1px rgba(0, 0, 0, 0.15);\n",
              "      filter: drop-shadow(0px 1px 2px rgba(0, 0, 0, 0.3));\n",
              "      fill: #FFFFFF;\n",
              "    }\n",
              "  </style>\n",
              "\n",
              "      <script>\n",
              "        const buttonEl =\n",
              "          document.querySelector('#df-42cd401c-79a2-4fc2-abe0-46ad96889286 button.colab-df-convert');\n",
              "        buttonEl.style.display =\n",
              "          google.colab.kernel.accessAllowed ? 'block' : 'none';\n",
              "\n",
              "        async function convertToInteractive(key) {\n",
              "          const element = document.querySelector('#df-42cd401c-79a2-4fc2-abe0-46ad96889286');\n",
              "          const dataTable =\n",
              "            await google.colab.kernel.invokeFunction('convertToInteractive',\n",
              "                                                     [key], {});\n",
              "          if (!dataTable) return;\n",
              "\n",
              "          const docLinkHtml = 'Like what you see? Visit the ' +\n",
              "            '<a target=\"_blank\" href=https://colab.research.google.com/notebooks/data_table.ipynb>data table notebook</a>'\n",
              "            + ' to learn more about interactive tables.';\n",
              "          element.innerHTML = '';\n",
              "          dataTable['output_type'] = 'display_data';\n",
              "          await google.colab.output.renderOutput(dataTable, element);\n",
              "          const docLink = document.createElement('div');\n",
              "          docLink.innerHTML = docLinkHtml;\n",
              "          element.appendChild(docLink);\n",
              "        }\n",
              "      </script>\n",
              "    </div>\n",
              "  </div>\n",
              "  "
            ]
          },
          "metadata": {},
          "execution_count": 193
        }
      ]
    },
    {
      "cell_type": "code",
      "source": [
        "def to_military_time_float(in_hour,in_min,am_pm):\n",
        "  out_time = 0\n",
        "  if in_hour == '12':\n",
        "\n",
        "    if am_pm == 'AM': \n",
        "      out_time = 0\n",
        "    else:\n",
        "      out_time = int(in_hour)\n",
        "  \n",
        "  elif (0 < int(in_hour) < 12):\n",
        "    if am_pm == 'AM':\n",
        "      out_time = int(in_hour)\n",
        "    else:\n",
        "      out_time = int(in_hour) + 12\n",
        "  \n",
        "  \n",
        "\n",
        "  out_min = int(in_min) / 60\n",
        "\n",
        "  out_time += out_min \n",
        "\n",
        "\n",
        "\n",
        "\n",
        "  return out_time"
      ],
      "metadata": {
        "id": "D20pZNXixxQx"
      },
      "execution_count": 194,
      "outputs": []
    },
    {
      "cell_type": "code",
      "source": [
        "to_military_time_float('9','30','AM')"
      ],
      "metadata": {
        "colab": {
          "base_uri": "https://localhost:8080/"
        },
        "id": "wSz_-acbykIw",
        "outputId": "68b00304-6f4f-4c92-a5f8-3fff9d38bcc0"
      },
      "execution_count": 195,
      "outputs": [
        {
          "output_type": "execute_result",
          "data": {
            "text/plain": [
              "9.5"
            ]
          },
          "metadata": {},
          "execution_count": 195
        }
      ]
    },
    {
      "cell_type": "code",
      "source": [
        "df_time_convert['Time Value (float)'] =  df_time_convert.apply(lambda x: to_military_time_float(x['Wake_Up_hour'],x['Wake_Up_minute'],x['am_pm']),axis = 1)"
      ],
      "metadata": {
        "colab": {
          "base_uri": "https://localhost:8080/"
        },
        "id": "MJ5wiq-mfdLI",
        "outputId": "04f0885f-88d5-4417-b93c-cf1ca1b4a4b4"
      },
      "execution_count": 196,
      "outputs": [
        {
          "output_type": "stream",
          "name": "stderr",
          "text": [
            "<ipython-input-196-c495247ffbcf>:1: SettingWithCopyWarning: \n",
            "A value is trying to be set on a copy of a slice from a DataFrame.\n",
            "Try using .loc[row_indexer,col_indexer] = value instead\n",
            "\n",
            "See the caveats in the documentation: https://pandas.pydata.org/pandas-docs/stable/user_guide/indexing.html#returning-a-view-versus-a-copy\n",
            "  df_time_convert['Time Value (float)'] =  df_time_convert.apply(lambda x: to_military_time_float(x['Wake_Up_hour'],x['Wake_Up_minute'],x['am_pm']),axis = 1)\n"
          ]
        }
      ]
    },
    {
      "cell_type": "code",
      "source": [
        "df= df.assign(military_time = df_time_convert['Time Value (float)'])"
      ],
      "metadata": {
        "id": "VfpB6eaKi3T_"
      },
      "execution_count": 197,
      "outputs": []
    },
    {
      "cell_type": "code",
      "source": [
        "sns.histplot(x = 'military_time', data =df)"
      ],
      "metadata": {
        "colab": {
          "base_uri": "https://localhost:8080/",
          "height": 471
        },
        "id": "aQZZ1g63wEOY",
        "outputId": "759375fe-2667-4d53-c6aa-8fe103bbca5f"
      },
      "execution_count": 198,
      "outputs": [
        {
          "output_type": "execute_result",
          "data": {
            "text/plain": [
              "<Axes: xlabel='military_time', ylabel='Count'>"
            ]
          },
          "metadata": {},
          "execution_count": 198
        },
        {
          "output_type": "display_data",
          "data": {
            "text/plain": [
              "<Figure size 640x480 with 1 Axes>"
            ],
            "image/png": "[encoded data removed]"
          },
          "metadata": {}
        }
      ]
    },
    {
      "cell_type": "code",
      "source": [
        "sns.boxplot(x = 'military_time', data =df)"
      ],
      "metadata": {
        "colab": {
          "base_uri": "https://localhost:8080/",
          "height": 467
        },
        "id": "8y86aVN3wEWQ",
        "outputId": "91f785a2-ba04-48ba-80df-20c07a3b0e59"
      },
      "execution_count": 199,
      "outputs": [
        {
          "output_type": "execute_result",
          "data": {
            "text/plain": [
              "<Axes: xlabel='military_time'>"
            ]
          },
          "metadata": {},
          "execution_count": 199
        },
        {
          "output_type": "display_data",
          "data": {
            "text/plain": [
              "<Figure size 640x480 with 1 Axes>"
            ],
            "image/png": "[encoded data removed]"
          },
          "metadata": {}
        }
      ]
    },
    {
      "cell_type": "code",
      "source": [
        "pip install researchpy"
      ],
      "metadata": {
        "colab": {
          "base_uri": "https://localhost:8080/"
        },
        "id": "4HSl-j2NkxRu",
        "outputId": "85699379-b502-4905-c0b4-7023e33d0b95"
      },
      "execution_count": 200,
      "outputs": [
        {
          "output_type": "stream",
          "name": "stdout",
          "text": [
            "Looking in indexes: https://pypi.org/simple, https://us-python.pkg.dev/colab-wheels/public/simple/\n",
            "Requirement already satisfied: researchpy in /usr/local/lib/python3.10/dist-packages (0.3.5)\n",
            "Requirement already satisfied: patsy in /usr/local/lib/python3.10/dist-packages (from researchpy) (0.5.3)\n",
            "Requirement already satisfied: numpy in /usr/local/lib/python3.10/dist-packages (from researchpy) (1.22.4)\n",
            "Requirement already satisfied: statsmodels in /usr/local/lib/python3.10/dist-packages (from researchpy) (0.13.5)\n",
            "Requirement already satisfied: pandas in /usr/local/lib/python3.10/dist-packages (from researchpy) (1.5.3)\n",
            "Requirement already satisfied: scipy in /usr/local/lib/python3.10/dist-packages (from researchpy) (1.10.1)\n",
            "Requirement already satisfied: pytz>=2020.1 in /usr/local/lib/python3.10/dist-packages (from pandas->researchpy) (2022.7.1)\n",
            "Requirement already satisfied: python-dateutil>=2.8.1 in /usr/local/lib/python3.10/dist-packages (from pandas->researchpy) (2.8.2)\n",
            "Requirement already satisfied: six in /usr/local/lib/python3.10/dist-packages (from patsy->researchpy) (1.16.0)\n",
            "Requirement already satisfied: packaging>=21.3 in /usr/local/lib/python3.10/dist-packages (from statsmodels->researchpy) (23.1)\n"
          ]
        }
      ]
    },
    {
      "cell_type": "code",
      "source": [
        "import researchpy as rp"
      ],
      "metadata": {
        "id": "F_jaGQp8ktYK"
      },
      "execution_count": 201,
      "outputs": []
    },
    {
      "cell_type": "code",
      "source": [
        "rp.summary_cont(df['military_time'].groupby(df['Strenuous_sports'])).round(2)"
      ],
      "metadata": {
        "colab": {
          "base_uri": "https://localhost:8080/",
          "height": 366
        },
        "id": "4bRRs-J7klJU",
        "outputId": "3b39f305-85ee-474b-9dee-b2bad801f84a"
      },
      "execution_count": 202,
      "outputs": [
        {
          "output_type": "stream",
          "name": "stdout",
          "text": [
            "\n",
            "\n"
          ]
        },
        {
          "output_type": "execute_result",
          "data": {
            "text/plain": [
              "                     N  Mean    SD    SE  95% Conf.  Interval\n",
              "Strenuous_sports                                             \n",
              "1 Time             283  6.76  2.38  0.14       6.48      7.04\n",
              "2 Times            164  7.15  3.16  0.25       6.67      7.64\n",
              "3 Times             99  6.76  2.80  0.28       6.20      7.32\n",
              "4 Times             48  6.81  2.09  0.30       6.20      7.42\n",
              "5 Times             15  6.10  1.09  0.28       5.49      6.71\n",
              "6 Times              4  5.50  1.02  0.51       3.88      7.12\n",
              "7 Times or more     30  6.82  1.88  0.34       6.12      7.53\n",
              "not at all        4454  6.88  2.61  0.04       6.80      6.95"
            ],
            "text/html": [
              "\n",
              "  <div id=\"df-ed0f8651-3ccf-4222-859d-d574f760c70b\">\n",
              "    <div class=\"colab-df-container\">\n",
              "      <div>\n",
              "<style scoped>\n",
              "    .dataframe tbody tr th:only-of-type {\n",
              "        vertical-align: middle;\n",
              "    }\n",
              "\n",
              "    .dataframe tbody tr th {\n",
              "        vertical-align: top;\n",
              "    }\n",
              "\n",
              "    .dataframe thead th {\n",
              "        text-align: right;\n",
              "    }\n",
              "</style>\n",
              "<table border=\"1\" class=\"dataframe\">\n",
              "  <thead>\n",
              "    <tr style=\"text-align: right;\">\n",
              "      <th></th>\n",
              "      <th>N</th>\n",
              "      <th>Mean</th>\n",
              "      <th>SD</th>\n",
              "      <th>SE</th>\n",
              "      <th>95% Conf.</th>\n",
              "      <th>Interval</th>\n",
              "    </tr>\n",
              "    <tr>\n",
              "      <th>Strenuous_sports</th>\n",
              "      <th></th>\n",
              "      <th></th>\n",
              "      <th></th>\n",
              "      <th></th>\n",
              "      <th></th>\n",
              "      <th></th>\n",
              "    </tr>\n",
              "  </thead>\n",
              "  <tbody>\n",
              "    <tr>\n",
              "      <th>1 Time</th>\n",
              "      <td>283</td>\n",
              "      <td>6.76</td>\n",
              "      <td>2.38</td>\n",
              "      <td>0.14</td>\n",
              "      <td>6.48</td>\n",
              "      <td>7.04</td>\n",
              "    </tr>\n",
              "    <tr>\n",
              "      <th>2 Times</th>\n",
              "      <td>164</td>\n",
              "      <td>7.15</td>\n",
              "      <td>3.16</td>\n",
              "      <td>0.25</td>\n",
              "      <td>6.67</td>\n",
              "      <td>7.64</td>\n",
              "    </tr>\n",
              "    <tr>\n",
              "      <th>3 Times</th>\n",
              "      <td>99</td>\n",
              "      <td>6.76</td>\n",
              "      <td>2.80</td>\n",
              "      <td>0.28</td>\n",
              "      <td>6.20</td>\n",
              "      <td>7.32</td>\n",
              "    </tr>\n",
              "    <tr>\n",
              "      <th>4 Times</th>\n",
              "      <td>48</td>\n",
              "      <td>6.81</td>\n",
              "      <td>2.09</td>\n",
              "      <td>0.30</td>\n",
              "      <td>6.20</td>\n",
              "      <td>7.42</td>\n",
              "    </tr>\n",
              "    <tr>\n",
              "      <th>5 Times</th>\n",
              "      <td>15</td>\n",
              "      <td>6.10</td>\n",
              "      <td>1.09</td>\n",
              "      <td>0.28</td>\n",
              "      <td>5.49</td>\n",
              "      <td>6.71</td>\n",
              "    </tr>\n",
              "    <tr>\n",
              "      <th>6 Times</th>\n",
              "      <td>4</td>\n",
              "      <td>5.50</td>\n",
              "      <td>1.02</td>\n",
              "      <td>0.51</td>\n",
              "      <td>3.88</td>\n",
              "      <td>7.12</td>\n",
              "    </tr>\n",
              "    <tr>\n",
              "      <th>7 Times or more</th>\n",
              "      <td>30</td>\n",
              "      <td>6.82</td>\n",
              "      <td>1.88</td>\n",
              "      <td>0.34</td>\n",
              "      <td>6.12</td>\n",
              "      <td>7.53</td>\n",
              "    </tr>\n",
              "    <tr>\n",
              "      <th>not at all</th>\n",
              "      <td>4454</td>\n",
              "      <td>6.88</td>\n",
              "      <td>2.61</td>\n",
              "      <td>0.04</td>\n",
              "      <td>6.80</td>\n",
              "      <td>6.95</td>\n",
              "    </tr>\n",
              "  </tbody>\n",
              "</table>\n",
              "</div>\n",
              "      <button class=\"colab-df-convert\" onclick=\"convertToInteractive('df-ed0f8651-3ccf-4222-859d-d574f760c70b')\"\n",
              "              title=\"Convert this dataframe to an interactive table.\"\n",
              "              style=\"display:none;\">\n",
              "        \n",
              "  <svg xmlns=\"http://www.w3.org/2000/svg\" height=\"24px\"viewBox=\"0 0 24 24\"\n",
              "       width=\"24px\">\n",
              "    <path d=\"M0 0h24v24H0V0z\" fill=\"none\"/>\n",
              "    <path d=\"M18.56 5.44l.94 2.06.94-2.06 2.06-.94-2.06-.94-.94-2.06-.94 2.06-2.06.94zm-11 1L8.5 8.5l.94-2.06 2.06-.94-2.06-.94L8.5 2.5l-.94 2.06-2.06.94zm10 10l.94 2.06.94-2.06 2.06-.94-2.06-.94-.94-2.06-.94 2.06-2.06.94z\"/><path d=\"M17.41 7.96l-1.37-1.37c-.4-.4-.92-.59-1.43-.59-.52 0-1.04.2-1.43.59L10.3 9.45l-7.72 7.72c-.78.78-.78 2.05 0 2.83L4 21.41c.39.39.9.59 1.41.59.51 0 1.02-.2 1.41-.59l7.78-7.78 2.81-2.81c.8-.78.8-2.07 0-2.86zM5.41 20L4 18.59l7.72-7.72 1.47 1.35L5.41 20z\"/>\n",
              "  </svg>\n",
              "      </button>\n",
              "      \n",
              "  <style>\n",
              "    .colab-df-container {\n",
              "      display:flex;\n",
              "      flex-wrap:wrap;\n",
              "      gap: 12px;\n",
              "    }\n",
              "\n",
              "    .colab-df-convert {\n",
              "      background-color: #E8F0FE;\n",
              "      border: none;\n",
              "      border-radius: 50%;\n",
              "      cursor: pointer;\n",
              "      display: none;\n",
              "      fill: #1967D2;\n",
              "      height: 32px;\n",
              "      padding: 0 0 0 0;\n",
              "      width: 32px;\n",
              "    }\n",
              "\n",
              "    .colab-df-convert:hover {\n",
              "      background-color: #E2EBFA;\n",
              "      box-shadow: 0px 1px 2px rgba(60, 64, 67, 0.3), 0px 1px 3px 1px rgba(60, 64, 67, 0.15);\n",
              "      fill: #174EA6;\n",
              "    }\n",
              "\n",
              "    [theme=dark] .colab-df-convert {\n",
              "      background-color: #3B4455;\n",
              "      fill: #D2E3FC;\n",
              "    }\n",
              "\n",
              "    [theme=dark] .colab-df-convert:hover {\n",
              "      background-color: #434B5C;\n",
              "      box-shadow: 0px 1px 3px 1px rgba(0, 0, 0, 0.15);\n",
              "      filter: drop-shadow(0px 1px 2px rgba(0, 0, 0, 0.3));\n",
              "      fill: #FFFFFF;\n",
              "    }\n",
              "  </style>\n",
              "\n",
              "      <script>\n",
              "        const buttonEl =\n",
              "          document.querySelector('#df-ed0f8651-3ccf-4222-859d-d574f760c70b button.colab-df-convert');\n",
              "        buttonEl.style.display =\n",
              "          google.colab.kernel.accessAllowed ? 'block' : 'none';\n",
              "\n",
              "        async function convertToInteractive(key) {\n",
              "          const element = document.querySelector('#df-ed0f8651-3ccf-4222-859d-d574f760c70b');\n",
              "          const dataTable =\n",
              "            await google.colab.kernel.invokeFunction('convertToInteractive',\n",
              "                                                     [key], {});\n",
              "          if (!dataTable) return;\n",
              "\n",
              "          const docLinkHtml = 'Like what you see? Visit the ' +\n",
              "            '<a target=\"_blank\" href=https://colab.research.google.com/notebooks/data_table.ipynb>data table notebook</a>'\n",
              "            + ' to learn more about interactive tables.';\n",
              "          element.innerHTML = '';\n",
              "          dataTable['output_type'] = 'display_data';\n",
              "          await google.colab.output.renderOutput(dataTable, element);\n",
              "          const docLink = document.createElement('div');\n",
              "          docLink.innerHTML = docLinkHtml;\n",
              "          element.appendChild(docLink);\n",
              "        }\n",
              "      </script>\n",
              "    </div>\n",
              "  </div>\n",
              "  "
            ]
          },
          "metadata": {},
          "execution_count": 202
        }
      ]
    },
    {
      "cell_type": "code",
      "source": [
        "sns.boxplot( y ='Strenuous_sports' , x ='military_time' , data = df )"
      ],
      "metadata": {
        "colab": {
          "base_uri": "https://localhost:8080/",
          "height": 467
        },
        "id": "d742bTb0mX5R",
        "outputId": "8135c5e5-18fc-46ea-feab-c86a211c0ea3"
      },
      "execution_count": 203,
      "outputs": [
        {
          "output_type": "execute_result",
          "data": {
            "text/plain": [
              "<Axes: xlabel='military_time', ylabel='Strenuous_sports'>"
            ]
          },
          "metadata": {},
          "execution_count": 203
        },
        {
          "output_type": "display_data",
          "data": {
            "text/plain": [
              "<Figure size 640x480 with 1 Axes>"
            ],
            "image/png": "[encoded data removed]"
          },
          "metadata": {}
        }
      ]
    },
    {
      "cell_type": "code",
      "source": [
        "import statsmodels.api as sm\n",
        "from statsmodels.formula.api import ols"
      ],
      "metadata": {
        "id": "ibRZevh0mrXa"
      },
      "execution_count": 204,
      "outputs": []
    },
    {
      "cell_type": "code",
      "source": [
        "model = ols('military_time ~ C(Strenuous_sports)', data=df).fit()\n",
        "aov_table = sm.stats.anova_lm(model, typ=1)\n",
        "aov_table"
      ],
      "metadata": {
        "colab": {
          "base_uri": "https://localhost:8080/",
          "height": 112
        },
        "id": "Bn-QF_LLmrfu",
        "outputId": "18acacb6-2ad6-492a-d6df-c16b5d15e30a"
      },
      "execution_count": 205,
      "outputs": [
        {
          "output_type": "execute_result",
          "data": {
            "text/plain": [
              "                         df        sum_sq   mean_sq         F   PR(>F)\n",
              "C(Strenuous_sports)     7.0     34.540225  4.934318  0.722769  0.65272\n",
              "Residual             5089.0  34742.398794  6.826960       NaN      NaN"
            ],
            "text/html": [
              "\n",
              "  <div id=\"df-462643ee-4440-4fa7-8a52-c44923427ef0\">\n",
              "    <div class=\"colab-df-container\">\n",
              "      <div>\n",
              "<style scoped>\n",
              "    .dataframe tbody tr th:only-of-type {\n",
              "        vertical-align: middle;\n",
              "    }\n",
              "\n",
              "    .dataframe tbody tr th {\n",
              "        vertical-align: top;\n",
              "    }\n",
              "\n",
              "    .dataframe thead th {\n",
              "        text-align: right;\n",
              "    }\n",
              "</style>\n",
              "<table border=\"1\" class=\"dataframe\">\n",
              "  <thead>\n",
              "    <tr style=\"text-align: right;\">\n",
              "      <th></th>\n",
              "      <th>df</th>\n",
              "      <th>sum_sq</th>\n",
              "      <th>mean_sq</th>\n",
              "      <th>F</th>\n",
              "      <th>PR(&gt;F)</th>\n",
              "    </tr>\n",
              "  </thead>\n",
              "  <tbody>\n",
              "    <tr>\n",
              "      <th>C(Strenuous_sports)</th>\n",
              "      <td>7.0</td>\n",
              "      <td>34.540225</td>\n",
              "      <td>4.934318</td>\n",
              "      <td>0.722769</td>\n",
              "      <td>0.65272</td>\n",
              "    </tr>\n",
              "    <tr>\n",
              "      <th>Residual</th>\n",
              "      <td>5089.0</td>\n",
              "      <td>34742.398794</td>\n",
              "      <td>6.826960</td>\n",
              "      <td>NaN</td>\n",
              "      <td>NaN</td>\n",
              "    </tr>\n",
              "  </tbody>\n",
              "</table>\n",
              "</div>\n",
              "      <button class=\"colab-df-convert\" onclick=\"convertToInteractive('df-462643ee-4440-4fa7-8a52-c44923427ef0')\"\n",
              "              title=\"Convert this dataframe to an interactive table.\"\n",
              "              style=\"display:none;\">\n",
              "        \n",
              "  <svg xmlns=\"http://www.w3.org/2000/svg\" height=\"24px\"viewBox=\"0 0 24 24\"\n",
              "       width=\"24px\">\n",
              "    <path d=\"M0 0h24v24H0V0z\" fill=\"none\"/>\n",
              "    <path d=\"M18.56 5.44l.94 2.06.94-2.06 2.06-.94-2.06-.94-.94-2.06-.94 2.06-2.06.94zm-11 1L8.5 8.5l.94-2.06 2.06-.94-2.06-.94L8.5 2.5l-.94 2.06-2.06.94zm10 10l.94 2.06.94-2.06 2.06-.94-2.06-.94-.94-2.06-.94 2.06-2.06.94z\"/><path d=\"M17.41 7.96l-1.37-1.37c-.4-.4-.92-.59-1.43-.59-.52 0-1.04.2-1.43.59L10.3 9.45l-7.72 7.72c-.78.78-.78 2.05 0 2.83L4 21.41c.39.39.9.59 1.41.59.51 0 1.02-.2 1.41-.59l7.78-7.78 2.81-2.81c.8-.78.8-2.07 0-2.86zM5.41 20L4 18.59l7.72-7.72 1.47 1.35L5.41 20z\"/>\n",
              "  </svg>\n",
              "      </button>\n",
              "      \n",
              "  <style>\n",
              "    .colab-df-container {\n",
              "      display:flex;\n",
              "      flex-wrap:wrap;\n",
              "      gap: 12px;\n",
              "    }\n",
              "\n",
              "    .colab-df-convert {\n",
              "      background-color: #E8F0FE;\n",
              "      border: none;\n",
              "      border-radius: 50%;\n",
              "      cursor: pointer;\n",
              "      display: none;\n",
              "      fill: #1967D2;\n",
              "      height: 32px;\n",
              "      padding: 0 0 0 0;\n",
              "      width: 32px;\n",
              "    }\n",
              "\n",
              "    .colab-df-convert:hover {\n",
              "      background-color: #E2EBFA;\n",
              "      box-shadow: 0px 1px 2px rgba(60, 64, 67, 0.3), 0px 1px 3px 1px rgba(60, 64, 67, 0.15);\n",
              "      fill: #174EA6;\n",
              "    }\n",
              "\n",
              "    [theme=dark] .colab-df-convert {\n",
              "      background-color: #3B4455;\n",
              "      fill: #D2E3FC;\n",
              "    }\n",
              "\n",
              "    [theme=dark] .colab-df-convert:hover {\n",
              "      background-color: #434B5C;\n",
              "      box-shadow: 0px 1px 3px 1px rgba(0, 0, 0, 0.15);\n",
              "      filter: drop-shadow(0px 1px 2px rgba(0, 0, 0, 0.3));\n",
              "      fill: #FFFFFF;\n",
              "    }\n",
              "  </style>\n",
              "\n",
              "      <script>\n",
              "        const buttonEl =\n",
              "          document.querySelector('#df-462643ee-4440-4fa7-8a52-c44923427ef0 button.colab-df-convert');\n",
              "        buttonEl.style.display =\n",
              "          google.colab.kernel.accessAllowed ? 'block' : 'none';\n",
              "\n",
              "        async function convertToInteractive(key) {\n",
              "          const element = document.querySelector('#df-462643ee-4440-4fa7-8a52-c44923427ef0');\n",
              "          const dataTable =\n",
              "            await google.colab.kernel.invokeFunction('convertToInteractive',\n",
              "                                                     [key], {});\n",
              "          if (!dataTable) return;\n",
              "\n",
              "          const docLinkHtml = 'Like what you see? Visit the ' +\n",
              "            '<a target=\"_blank\" href=https://colab.research.google.com/notebooks/data_table.ipynb>data table notebook</a>'\n",
              "            + ' to learn more about interactive tables.';\n",
              "          element.innerHTML = '';\n",
              "          dataTable['output_type'] = 'display_data';\n",
              "          await google.colab.output.renderOutput(dataTable, element);\n",
              "          const docLink = document.createElement('div');\n",
              "          docLink.innerHTML = docLinkHtml;\n",
              "          element.appendChild(docLink);\n",
              "        }\n",
              "      </script>\n",
              "    </div>\n",
              "  </div>\n",
              "  "
            ]
          },
          "metadata": {},
          "execution_count": 205
        }
      ]
    },
    {
      "cell_type": "code",
      "source": [
        "import statsmodels.stats.multicomp as mc\n",
        "\n",
        "comp = mc.MultiComparison(df['military_time'], df['Strenuous_sports'])\n",
        "post_hoc_res = comp.tukeyhsd()\n",
        "post_hoc_res.summary()"
      ],
      "metadata": {
        "colab": {
          "base_uri": "https://localhost:8080/",
          "height": 381
        },
        "id": "_8VNl4Ummrq3",
        "outputId": "3a67da8e-641f-4327-c3ab-258cbe9eea48"
      },
      "execution_count": 206,
      "outputs": [
        {
          "output_type": "error",
          "ename": "TypeError",
          "evalue": "ignored",
          "traceback": [
            "\u001b[0;31m---------------------------------------------------------------------------\u001b[0m",
            "\u001b[0;31mTypeError\u001b[0m                                 Traceback (most recent call last)",
            "\u001b[0;32m<ipython-input-206-a45fafed8343>\u001b[0m in \u001b[0;36m<cell line: 3>\u001b[0;34m()\u001b[0m\n\u001b[1;32m      1\u001b[0m \u001b[0;32mimport\u001b[0m \u001b[0mstatsmodels\u001b[0m\u001b[0;34m.\u001b[0m\u001b[0mstats\u001b[0m\u001b[0;34m.\u001b[0m\u001b[0mmulticomp\u001b[0m \u001b[0;32mas\u001b[0m \u001b[0mmc\u001b[0m\u001b[0;34m\u001b[0m\u001b[0;34m\u001b[0m\u001b[0m\n\u001b[1;32m      2\u001b[0m \u001b[0;34m\u001b[0m\u001b[0m\n\u001b[0;32m----> 3\u001b[0;31m \u001b[0mcomp\u001b[0m \u001b[0;34m=\u001b[0m \u001b[0mmc\u001b[0m\u001b[0;34m.\u001b[0m\u001b[0mMultiComparison\u001b[0m\u001b[0;34m(\u001b[0m\u001b[0mdf\u001b[0m\u001b[0;34m[\u001b[0m\u001b[0;34m'military_time'\u001b[0m\u001b[0;34m]\u001b[0m\u001b[0;34m,\u001b[0m \u001b[0mdf\u001b[0m\u001b[0;34m[\u001b[0m\u001b[0;34m'Strenuous_sports'\u001b[0m\u001b[0;34m]\u001b[0m\u001b[0;34m)\u001b[0m\u001b[0;34m\u001b[0m\u001b[0;34m\u001b[0m\u001b[0m\n\u001b[0m\u001b[1;32m      4\u001b[0m \u001b[0mpost_hoc_res\u001b[0m \u001b[0;34m=\u001b[0m \u001b[0mcomp\u001b[0m\u001b[0;34m.\u001b[0m\u001b[0mtukeyhsd\u001b[0m\u001b[0;34m(\u001b[0m\u001b[0;34m)\u001b[0m\u001b[0;34m\u001b[0m\u001b[0;34m\u001b[0m\u001b[0m\n\u001b[1;32m      5\u001b[0m \u001b[0mpost_hoc_res\u001b[0m\u001b[0;34m.\u001b[0m\u001b[0msummary\u001b[0m\u001b[0;34m(\u001b[0m\u001b[0;34m)\u001b[0m\u001b[0;34m\u001b[0m\u001b[0;34m\u001b[0m\u001b[0m\n",
            "\u001b[0;32m/usr/local/lib/python3.10/dist-packages/statsmodels/sandbox/stats/multicomp.py\u001b[0m in \u001b[0;36m__init__\u001b[0;34m(self, data, groups, group_order)\u001b[0m\n\u001b[1;32m    815\u001b[0m         \u001b[0;31m# Allow for user-provided sorting of groups\u001b[0m\u001b[0;34m\u001b[0m\u001b[0;34m\u001b[0m\u001b[0m\n\u001b[1;32m    816\u001b[0m         \u001b[0;32mif\u001b[0m \u001b[0mgroup_order\u001b[0m \u001b[0;32mis\u001b[0m \u001b[0;32mNone\u001b[0m\u001b[0;34m:\u001b[0m\u001b[0;34m\u001b[0m\u001b[0;34m\u001b[0m\u001b[0m\n\u001b[0;32m--> 817\u001b[0;31m             self.groupsunique, self.groupintlab = np.unique(groups,\n\u001b[0m\u001b[1;32m    818\u001b[0m                                                             return_inverse=True)\n\u001b[1;32m    819\u001b[0m         \u001b[0;32melse\u001b[0m\u001b[0;34m:\u001b[0m\u001b[0;34m\u001b[0m\u001b[0;34m\u001b[0m\u001b[0m\n",
            "\u001b[0;32m/usr/local/lib/python3.10/dist-packages/numpy/core/overrides.py\u001b[0m in \u001b[0;36munique\u001b[0;34m(*args, **kwargs)\u001b[0m\n",
            "\u001b[0;32m/usr/local/lib/python3.10/dist-packages/numpy/lib/arraysetops.py\u001b[0m in \u001b[0;36munique\u001b[0;34m(ar, return_index, return_inverse, return_counts, axis)\u001b[0m\n\u001b[1;32m    270\u001b[0m     \u001b[0mar\u001b[0m \u001b[0;34m=\u001b[0m \u001b[0mnp\u001b[0m\u001b[0;34m.\u001b[0m\u001b[0masanyarray\u001b[0m\u001b[0;34m(\u001b[0m\u001b[0mar\u001b[0m\u001b[0;34m)\u001b[0m\u001b[0;34m\u001b[0m\u001b[0;34m\u001b[0m\u001b[0m\n\u001b[1;32m    271\u001b[0m     \u001b[0;32mif\u001b[0m \u001b[0maxis\u001b[0m \u001b[0;32mis\u001b[0m \u001b[0;32mNone\u001b[0m\u001b[0;34m:\u001b[0m\u001b[0;34m\u001b[0m\u001b[0;34m\u001b[0m\u001b[0m\n\u001b[0;32m--> 272\u001b[0;31m         \u001b[0mret\u001b[0m \u001b[0;34m=\u001b[0m \u001b[0m_unique1d\u001b[0m\u001b[0;34m(\u001b[0m\u001b[0mar\u001b[0m\u001b[0;34m,\u001b[0m \u001b[0mreturn_index\u001b[0m\u001b[0;34m,\u001b[0m \u001b[0mreturn_inverse\u001b[0m\u001b[0;34m,\u001b[0m \u001b[0mreturn_counts\u001b[0m\u001b[0;34m)\u001b[0m\u001b[0;34m\u001b[0m\u001b[0;34m\u001b[0m\u001b[0m\n\u001b[0m\u001b[1;32m    273\u001b[0m         \u001b[0;32mreturn\u001b[0m \u001b[0m_unpack_tuple\u001b[0m\u001b[0;34m(\u001b[0m\u001b[0mret\u001b[0m\u001b[0;34m)\u001b[0m\u001b[0;34m\u001b[0m\u001b[0;34m\u001b[0m\u001b[0m\n\u001b[1;32m    274\u001b[0m \u001b[0;34m\u001b[0m\u001b[0m\n",
            "\u001b[0;32m/usr/local/lib/python3.10/dist-packages/numpy/lib/arraysetops.py\u001b[0m in \u001b[0;36m_unique1d\u001b[0;34m(ar, return_index, return_inverse, return_counts)\u001b[0m\n\u001b[1;32m    328\u001b[0m \u001b[0;34m\u001b[0m\u001b[0m\n\u001b[1;32m    329\u001b[0m     \u001b[0;32mif\u001b[0m \u001b[0moptional_indices\u001b[0m\u001b[0;34m:\u001b[0m\u001b[0;34m\u001b[0m\u001b[0;34m\u001b[0m\u001b[0m\n\u001b[0;32m--> 330\u001b[0;31m         \u001b[0mperm\u001b[0m \u001b[0;34m=\u001b[0m \u001b[0mar\u001b[0m\u001b[0;34m.\u001b[0m\u001b[0margsort\u001b[0m\u001b[0;34m(\u001b[0m\u001b[0mkind\u001b[0m\u001b[0;34m=\u001b[0m\u001b[0;34m'mergesort'\u001b[0m \u001b[0;32mif\u001b[0m \u001b[0mreturn_index\u001b[0m \u001b[0;32melse\u001b[0m \u001b[0;34m'quicksort'\u001b[0m\u001b[0;34m)\u001b[0m\u001b[0;34m\u001b[0m\u001b[0;34m\u001b[0m\u001b[0m\n\u001b[0m\u001b[1;32m    331\u001b[0m         \u001b[0maux\u001b[0m \u001b[0;34m=\u001b[0m \u001b[0mar\u001b[0m\u001b[0;34m[\u001b[0m\u001b[0mperm\u001b[0m\u001b[0;34m]\u001b[0m\u001b[0;34m\u001b[0m\u001b[0;34m\u001b[0m\u001b[0m\n\u001b[1;32m    332\u001b[0m     \u001b[0;32melse\u001b[0m\u001b[0;34m:\u001b[0m\u001b[0;34m\u001b[0m\u001b[0;34m\u001b[0m\u001b[0m\n",
            "\u001b[0;31mTypeError\u001b[0m: '<' not supported between instances of 'str' and 'float'"
          ]
        }
      ]
    },
    {
      "cell_type": "code",
      "source": [
        "post_hoc_res.plot_simultaneous(ylabel= \"Color\", xlabel= \"Prices\")"
      ],
      "metadata": {
        "colab": {
          "base_uri": "https://localhost:8080/",
          "height": 166
        },
        "id": "waxt4ucJnNbQ",
        "outputId": "4a18336e-ad72-4a2c-e107-814e522a58de"
      },
      "execution_count": 173,
      "outputs": [
        {
          "output_type": "error",
          "ename": "NameError",
          "evalue": "ignored",
          "traceback": [
            "\u001b[0;31m---------------------------------------------------------------------------\u001b[0m",
            "\u001b[0;31mNameError\u001b[0m                                 Traceback (most recent call last)",
            "\u001b[0;32m<ipython-input-173-c041291f5e81>\u001b[0m in \u001b[0;36m<cell line: 1>\u001b[0;34m()\u001b[0m\n\u001b[0;32m----> 1\u001b[0;31m \u001b[0mpost_hoc_res\u001b[0m\u001b[0;34m.\u001b[0m\u001b[0mplot_simultaneous\u001b[0m\u001b[0;34m(\u001b[0m\u001b[0mylabel\u001b[0m\u001b[0;34m=\u001b[0m \u001b[0;34m\"Color\"\u001b[0m\u001b[0;34m,\u001b[0m \u001b[0mxlabel\u001b[0m\u001b[0;34m=\u001b[0m \u001b[0;34m\"Prices\"\u001b[0m\u001b[0;34m)\u001b[0m\u001b[0;34m\u001b[0m\u001b[0;34m\u001b[0m\u001b[0m\n\u001b[0m",
            "\u001b[0;31mNameError\u001b[0m: name 'post_hoc_res' is not defined"
          ]
        }
      ]
    },
    {
      "cell_type": "code",
      "source": [
        "#Manage data for variable 1"
      ],
      "metadata": {
        "id": "BGXegclY57pS"
      },
      "execution_count": 4,
      "outputs": []
    },
    {
      "cell_type": "code",
      "source": [
        "#Graphs and tables or statistics"
      ],
      "metadata": {
        "id": "Q1Pv5DMz5-2C"
      },
      "execution_count": 5,
      "outputs": []
    },
    {
      "cell_type": "markdown",
      "source": [
        "![Screenshot 2023-04-28 7.31.18 PM.png](data:image/png;base64,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)Codebook 2:"
      ],
      "metadata": {
        "id": "wZC59jy36Ecy"
      }
    },
    {
      "cell_type": "code",
      "source": [
        "#Manage data for variable 1"
      ],
      "metadata": {
        "id": "1N6BlzE76JZJ"
      },
      "execution_count": 6,
      "outputs": []
    },
    {
      "cell_type": "code",
      "source": [
        "#Graphs and tables or statistics "
      ],
      "metadata": {
        "id": "zLkanovP6L9s"
      },
      "execution_count": 7,
      "outputs": []
    },
    {
      "cell_type": "code",
      "source": [
        "df['H4WS1'].value_counts()"
      ],
      "metadata": {
        "colab": {
          "base_uri": "https://localhost:8080/"
        },
        "id": "SY7AUSFp5jpw",
        "outputId": "d69e2a5b-d110-4dd3-d7c3-761d2632b1e3"
      },
      "execution_count": 17,
      "outputs": [
        {
          "output_type": "execute_result",
          "data": {
            "text/plain": [
              "      1390\n",
              "1     1342\n",
              "2     1265\n",
              "3      813\n",
              "4      539\n",
              "5      305\n",
              "0      242\n",
              "6      215\n",
              "7      141\n",
              "8       84\n",
              "9       56\n",
              "10      35\n",
              "11      20\n",
              "12      14\n",
              "98      10\n",
              "20       8\n",
              "13       8\n",
              "15       6\n",
              "17       4\n",
              "14       4\n",
              "96       1\n",
              "16       1\n",
              "19       1\n",
              "Name: H4WS1, dtype: int64"
            ]
          },
          "metadata": {},
          "execution_count": 17
        }
      ]
    },
    {
      "cell_type": "code",
      "source": [
        "df['EXP'] = df['H4WS1']"
      ],
      "metadata": {
        "id": "ca56ECIb5kI-"
      },
      "execution_count": 18,
      "outputs": []
    },
    {
      "cell_type": "code",
      "source": [
        "df['EXP'] = df['EXP'].loc[ df['EXP'] !='98']\n",
        "df['EXP'] = df['EXP'].loc[ df['EXP'] !='96']\n",
        "df['EXP'] = df['EXP'].loc[ df['EXP'] !=' ']\n",
        "df['EXP'].value_counts()"
      ],
      "metadata": {
        "colab": {
          "base_uri": "https://localhost:8080/"
        },
        "id": "A_y0wODc5kMm",
        "outputId": "90dbd88d-7cba-4723-c231-137ebbd6f7fd"
      },
      "execution_count": 19,
      "outputs": [
        {
          "output_type": "execute_result",
          "data": {
            "text/plain": [
              "1     1342\n",
              "2     1265\n",
              "3      813\n",
              "4      539\n",
              "5      305\n",
              "0      242\n",
              "6      215\n",
              "7      141\n",
              "8       84\n",
              "9       56\n",
              "10      35\n",
              "11      20\n",
              "12      14\n",
              "13       8\n",
              "20       8\n",
              "15       6\n",
              "17       4\n",
              "14       4\n",
              "16       1\n",
              "19       1\n",
              "Name: EXP, dtype: int64"
            ]
          },
          "metadata": {},
          "execution_count": 19
        }
      ]
    },
    {
      "cell_type": "code",
      "source": [
        "df['Siblings_Dead_Alive']= df['H4WS1']\n",
        "df['Siblings_Dead_Alive']= pd.to_numeric(df['Siblings_Dead_Alive'],errors= 'coerce')\n",
        "df['Siblings_Dead_Alive']= df['Siblings_Dead_Alive'].loc[df['Siblings_Dead_Alive'] < 96]\n",
        "df['Siblings_Dead_Alive']= df['Siblings_Dead_Alive'].loc[df['Siblings_Dead_Alive'] != ' ']\n",
        "df['Siblings_Dead_Alive'].value_counts()"
      ],
      "metadata": {
        "colab": {
          "base_uri": "https://localhost:8080/"
        },
        "id": "1GyXGLmOvbaw",
        "outputId": "76192018-c6a2-415d-ca17-0bde66ed0220"
      },
      "execution_count": 35,
      "outputs": [
        {
          "output_type": "execute_result",
          "data": {
            "text/plain": [
              "1.0     1342\n",
              "2.0     1265\n",
              "3.0      813\n",
              "4.0      539\n",
              "5.0      305\n",
              "0.0      242\n",
              "6.0      215\n",
              "7.0      141\n",
              "8.0       84\n",
              "9.0       56\n",
              "10.0      35\n",
              "11.0      20\n",
              "12.0      14\n",
              "13.0       8\n",
              "20.0       8\n",
              "15.0       6\n",
              "17.0       4\n",
              "14.0       4\n",
              "16.0       1\n",
              "19.0       1\n",
              "Name: Siblings_Dead_Alive, dtype: int64"
            ]
          },
          "metadata": {},
          "execution_count": 35
        }
      ]
    },
    {
      "cell_type": "code",
      "source": [
        "df['Siblings_Dead_Alive'] = df['H4WS1']\n",
        "df['Siblings_Dead_Alive']= pd.to_numeric(df['Siblings_Dead_Alive'],errors= 'coerce')\n",
        "df['Siblings_Dead_Alive']= df['Siblings_Dead_Alive'].loc[df['Siblings_Dead_Alive'] < 96]\n",
        "df['Siblings_Dead_Alive']= df['Siblings_Dead_Alive'].loc[df['Siblings_Dead_Alive'] != ' ']\n",
        "df['Siblings_Dead_Alive'].value_counts()"
      ],
      "metadata": {
        "colab": {
          "base_uri": "https://localhost:8080/"
        },
        "id": "2jvGqGrPvbf5",
        "outputId": "657afb6b-c8e8-461f-9f92-a535eebb3a75"
      },
      "execution_count": 36,
      "outputs": [
        {
          "output_type": "execute_result",
          "data": {
            "text/plain": [
              "1.0     1342\n",
              "2.0     1265\n",
              "3.0      813\n",
              "4.0      539\n",
              "5.0      305\n",
              "0.0      242\n",
              "6.0      215\n",
              "7.0      141\n",
              "8.0       84\n",
              "9.0       56\n",
              "10.0      35\n",
              "11.0      20\n",
              "12.0      14\n",
              "13.0       8\n",
              "20.0       8\n",
              "15.0       6\n",
              "17.0       4\n",
              "14.0       4\n",
              "16.0       1\n",
              "19.0       1\n",
              "Name: Siblings_Dead_Alive, dtype: int64"
            ]
          },
          "metadata": {},
          "execution_count": 36
        }
      ]
    },
    {
      "cell_type": "code",
      "source": [
        "def to_military_time_float(in_hour,in_min,am_pm):\n",
        "  out_time = 0\n",
        "  if in_hour == '12':\n",
        "\n",
        "    if am_pm == 'AM': \n",
        "      out_time = 0\n",
        "    else:\n",
        "      out_time = int(in_hour)\n",
        "  \n",
        "  elif (0 < int(in_hour) < 12):\n",
        "    if am_pm == 'AM':\n",
        "      out_time = int(in_hour)\n",
        "    else:\n",
        "      out_time = int(in_hour) + 12\n",
        "  \n",
        "  \n",
        "\n",
        "  out_min = int(in_min) / 60\n",
        "\n",
        "  out_time += out_min \n",
        "\n",
        "\n",
        "\n",
        "\n",
        "  return out_time"
      ],
      "metadata": {
        "id": "gz3gDThbwAtc"
      },
      "execution_count": 37,
      "outputs": []
    },
    {
      "cell_type": "code",
      "source": [
        "sns.histplot(x = 'Siblings_Dead_Alive', data =df)"
      ],
      "metadata": {
        "colab": {
          "base_uri": "https://localhost:8080/",
          "height": 470
        },
        "id": "f4fyYdo04x-7",
        "outputId": "61d57c42-525c-4af8-8bb3-27dd42b2a4e9"
      },
      "execution_count": 38,
      "outputs": [
        {
          "output_type": "execute_result",
          "data": {
            "text/plain": [
              "<Axes: xlabel='Siblings_Dead_Alive', ylabel='Count'>"
            ]
          },
          "metadata": {},
          "execution_count": 38
        },
        {
          "output_type": "display_data",
          "data": {
            "text/plain": [
              "<Figure size 640x480 with 1 Axes>"
            ],
            "image/png": "[encoded data removed]"
          },
          "metadata": {}
        }
      ]
    },
    {
      "cell_type": "code",
      "source": [
        "sns.boxplot(x = 'Siblings_Dead_Alive', data =df)"
      ],
      "metadata": {
        "colab": {
          "base_uri": "https://localhost:8080/",
          "height": 467
        },
        "id": "u9W0mrVh4yCb",
        "outputId": "1cea5fa1-5bf9-4f04-cb63-215e642ab5eb"
      },
      "execution_count": 39,
      "outputs": [
        {
          "output_type": "execute_result",
          "data": {
            "text/plain": [
              "<Axes: xlabel='Siblings_Dead_Alive'>"
            ]
          },
          "metadata": {},
          "execution_count": 39
        },
        {
          "output_type": "display_data",
          "data": {
            "text/plain": [
              "<Figure size 640x480 with 1 Axes>"
            ],
            "image/png": "[encoded data removed]"
          },
          "metadata": {}
        }
      ]
    },
    {
      "cell_type": "code",
      "source": [
        "df['H4ED9'].value_counts()"
      ],
      "metadata": {
        "colab": {
          "base_uri": "https://localhost:8080/"
        },
        "id": "PZWvSUF55yAH",
        "outputId": "098b11fa-6d23-4784-dfbc-e338e80a5697"
      },
      "execution_count": 9,
      "outputs": [
        {
          "output_type": "execute_result",
          "data": {
            "text/plain": [
              "      1390\n",
              "97    1211\n",
              "7     1063\n",
              "6      992\n",
              "5      450\n",
              "1      301\n",
              "4      286\n",
              "8      261\n",
              "3      189\n",
              "2      179\n",
              "9      153\n",
              "98      26\n",
              "96       3\n",
              "Name: H4ED9, dtype: int64"
            ]
          },
          "metadata": {},
          "execution_count": 9
        }
      ]
    },
    {
      "cell_type": "code",
      "source": [
        "df['EXP'] = df['H4ED9']"
      ],
      "metadata": {
        "id": "L8OtOvoB5yDs"
      },
      "execution_count": 10,
      "outputs": []
    },
    {
      "cell_type": "code",
      "source": [
        "df['EXP'] = df['EXP'].loc[ df['EXP'] !='98']\n",
        "df['EXP'] = df['EXP'].loc[ df['EXP'] !='96']\n",
        "df['EXP'] = df['EXP'].loc[ df['EXP'] !='97']\n",
        "df['EXP'] = df['EXP'].loc[ df['EXP'] !=' ']\n",
        "df['EXP'].value_counts()"
      ],
      "metadata": {
        "colab": {
          "base_uri": "https://localhost:8080/"
        },
        "id": "zf_wLKF_5yIF",
        "outputId": "93ef2b28-9de3-4991-8322-551705df9892"
      },
      "execution_count": 11,
      "outputs": [
        {
          "output_type": "execute_result",
          "data": {
            "text/plain": [
              "7    1063\n",
              "6     992\n",
              "5     450\n",
              "1     301\n",
              "4     286\n",
              "8     261\n",
              "3     189\n",
              "2     179\n",
              "9     153\n",
              "Name: EXP, dtype: int64"
            ]
          },
          "metadata": {},
          "execution_count": 11
        }
      ]
    },
    {
      "cell_type": "code",
      "source": [
        "#Basic Pie Chart\n",
        "df['EXP'].value_counts().plot(kind ='pie')"
      ],
      "metadata": {
        "colab": {
          "base_uri": "https://localhost:8080/",
          "height": 423
        },
        "id": "Rfl6AoCdu_ZO",
        "outputId": "3d743ff1-532c-403e-f860-7433641edf20"
      },
      "execution_count": 12,
      "outputs": [
        {
          "output_type": "execute_result",
          "data": {
            "text/plain": [
              "<Axes: ylabel='EXP'>"
            ]
          },
          "metadata": {},
          "execution_count": 12
        },
        {
          "output_type": "display_data",
          "data": {
            "text/plain": [
              "<Figure size 640x480 with 1 Axes>"
            ],
            "image/png": "[encoded data removed]"
          },
          "metadata": {}
        }
      ]
    },
    {
      "cell_type": "code",
      "source": [
        "#Basic Bar Chart\n",
        "df['EXP'].value_counts(normalize = True).plot(kind ='bar')"
      ],
      "metadata": {
        "colab": {
          "base_uri": "https://localhost:8080/",
          "height": 442
        },
        "id": "Gq5iVb_nu_gt",
        "outputId": "535b8b75-dc48-44f7-beca-10e74e11c65d"
      },
      "execution_count": 13,
      "outputs": [
        {
          "output_type": "execute_result",
          "data": {
            "text/plain": [
              "<Axes: >"
            ]
          },
          "metadata": {},
          "execution_count": 13
        },
        {
          "output_type": "display_data",
          "data": {
            "text/plain": [
              "<Figure size 640x480 with 1 Axes>"
            ],
            "image/png": "[encoded data removed]"
          },
          "metadata": {}
        }
      ]
    }
  ]
}